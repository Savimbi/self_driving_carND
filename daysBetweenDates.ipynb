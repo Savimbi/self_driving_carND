{
 "cells": [
  {
   "cell_type": "markdown",
   "metadata": {},
   "source": [
    "# Days Between Dates\n",
    "\n",
    "This lesson will focus on one problem: calculating the number of days between two dates. \n",
    "\n",
    "This workspace is yours to use in whatever way is helpful. You might want to keep it open in a second tab as you go through the videos. \n",
    "\n"
   ]
  },
  {
   "cell_type": "code",
   "execution_count": 3,
   "metadata": {},
   "outputs": [
    {
     "name": "stdout",
     "output_type": "stream",
     "text": [
      "Congratulations! Your daysBetweenDates\n",
      "function is working correctly!\n"
     ]
    }
   ],
   "source": [
    "def daysBetweenDates(year1, month1, day1, year2, month2, day2):\n",
    "    \"\"\"\n",
    "    Calculates the number of days between two dates.\n",
    "    \"\"\"\n",
    "    days =0\n",
    "    while isDayBefore(year1,month1,day1,year2, month2, day2):\n",
    "        days +=1\n",
    "        year1,month1,day1 = nextDay(year1,month1,day1)\n",
    "    return days\n",
    "\n",
    "def isDayBefore(year1,month1,day1,year2,month2,day2):\n",
    "    if year1 < year2:\n",
    "        return True\n",
    "    elif year1 == year2:\n",
    "        if month1 < month2:\n",
    "            return True\n",
    "        if month1 == month2:\n",
    "            return day1 < day2\n",
    "    return False\n",
    "\n",
    "\n",
    "def nextDay(year, month, day):\n",
    "    daysInMonth = daysOfMonth(year, month)\n",
    "    \n",
    "    if day < daysInMonth:\n",
    "        day +=1 \n",
    "    elif month < 12 and day == daysInMonth:\n",
    "        month += 1\n",
    "        day = 1\n",
    "    else :\n",
    "        year += 1;\n",
    "        month = 1;\n",
    "        day = 1;\n",
    "    return year, month, day\n",
    "\n",
    "def daysOfMonth(year, month):\n",
    "    if isALeapYear(year):\n",
    "        daysOfMonthInYear=[31,29,31,30,31,30,31,31,30,31,30,31]\n",
    "        return daysOfMonthInYear[month -1]\n",
    "    else :\n",
    "        daysOfMonthLeapYear=[31,28,31,30,31,30,31,31,30,31,30,31]\n",
    "        return daysOfMonthLeapYear[month -1]\n",
    "    \n",
    "\n",
    "def isALeapYear(year):\n",
    "    if year % 4 == 0:\n",
    "        if year % 100 == 0:\n",
    "            if year % 400 == 0:\n",
    "                return True\n",
    "            return False\n",
    "        return True\n",
    "    return False\n",
    "def testDaysBetweenDates():\n",
    "    \n",
    "    # test same day\n",
    "    assert(daysBetweenDates(2017, 12, 30,\n",
    "                              2017, 12, 30) == 0)\n",
    "    # test same day\n",
    "    assert(daysBetweenDates(2012,1,1,2012,2,28) == 58)\n",
    "    # test adjacent days\n",
    "    assert(daysBetweenDates(2017, 12, 30, \n",
    "                              2017, 12, 31) == 1)\n",
    "    # test new year\n",
    "    assert(daysBetweenDates(2017, 12, 30, \n",
    "                              2018, 1,  1)  == 2)\n",
    "    # test full year difference\n",
    "    assert(daysBetweenDates(2012, 6, 29,\n",
    "                              2013, 6, 29)  == 365)\n",
    "    \n",
    "    print(\"Congratulations! Your daysBetweenDates\")\n",
    "    print(\"function is working correctly!\")\n",
    "    \n",
    "testDaysBetweenDates()"
   ]
  },
  {
   "cell_type": "code",
   "execution_count": null,
   "metadata": {},
   "outputs": [],
   "source": []
  },
  {
   "cell_type": "code",
   "execution_count": null,
   "metadata": {},
   "outputs": [],
   "source": []
  }
 ],
 "metadata": {
  "kernelspec": {
   "display_name": "Python 3",
   "language": "python",
   "name": "python3"
  },
  "language_info": {
   "codemirror_mode": {
    "name": "ipython",
    "version": 3
   },
   "file_extension": ".py",
   "mimetype": "text/x-python",
   "name": "python",
   "nbconvert_exporter": "python",
   "pygments_lexer": "ipython3",
   "version": "3.6.3"
  }
 },
 "nbformat": 4,
 "nbformat_minor": 2
}
